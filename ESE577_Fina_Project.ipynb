{
  "nbformat": 4,
  "nbformat_minor": 0,
  "metadata": {
    "colab": {
      "provenance": []
    },
    "kernelspec": {
      "name": "python3",
      "display_name": "Python 3"
    },
    "language_info": {
      "name": "python"
    }
  },
  "cells": [
    {
      "cell_type": "code",
      "execution_count": null,
      "metadata": {
        "id": "bOihdHPhFXNQ"
      },
      "outputs": [],
      "source": [
        "!pip install google-generativeai\n",
        "!pip install datasets\n",
        "!pip install -U bitsandbytes\n",
        "!pip install transformers\n",
        "!pip install -U peft\n",
        "!pip install -U \"huggingface_hub[cli]\"\n",
        "!pip install -U trl"
      ]
    },
    {
      "cell_type": "code",
      "source": [
        "import google.generativeai as genai\n",
        "from datasets import Dataset, DatasetDict\n",
        "import pandas as pd\n",
        "from peft import LoraConfig, prepare_model_for_kbit_training, get_peft_model\n",
        "from transformers import AutoModelForCausalLM, AutoTokenizer, \\\n",
        "    BitsAndBytesConfig, TrainingArguments, pipeline, logging\n",
        "import torch\n",
        "from trl import SFTTrainer"
      ],
      "metadata": {
        "id": "xNe90HAIGNGF"
      },
      "execution_count": 5,
      "outputs": []
    },
    {
      "cell_type": "markdown",
      "source": [
        "create dataset, training and testing"
      ],
      "metadata": {
        "id": "LUBjGDnXHlnG"
      }
    },
    {
      "cell_type": "code",
      "source": [
        "dataset_train = Dataset.from_pandas(pd.DataFrame(qa_pairs_train, columns=[\"text\"]))\n",
        "dataset_val = Dataset.from_pandas(pd.DataFrame(qa_pairs_val, columns=[\"text\"]))\n",
        "dataset = DatasetDict({\"train\": dataset_train, \"test\": dataset_val})"
      ],
      "metadata": {
        "id": "u7857u0hHrfl"
      },
      "execution_count": null,
      "outputs": []
    },
    {
      "cell_type": "code",
      "source": [
        "!huggingface-cli login --token <TODO: CREATE YOUR OWN TOKEN>"
      ],
      "metadata": {
        "id": "_hnpPgiZNqF5"
      },
      "execution_count": null,
      "outputs": []
    },
    {
      "cell_type": "code",
      "source": [
        "# Reference: https://huggingface.co/blog/4bit-transformers-bitsandbytes\n",
        "base_model = \"mistralai/Mistral-7B-Instruct-v0.2\"\n",
        "bnb_config = BitsAndBytesConfig(\n",
        "   load_in_4bit=True,\n",
        "   bnb_4bit_quant_type=\"nf4\",\n",
        "   bnb_4bit_use_double_quant=True,\n",
        "   bnb_4bit_compute_dtype=torch.bfloat16\n",
        ")\n",
        "\n",
        "model = AutoModelForCausalLM.from_pretrained(\n",
        "    quantization_config=bnb_config\n",
        ")\n",
        "model.config.use_cache = False\n",
        "model.config.pretraining_tp = 1\n",
        "model.gradient_checkpointing_enable()"
      ],
      "metadata": {
        "id": "MX5huQQlNqcl"
      },
      "execution_count": null,
      "outputs": []
    },
    {
      "cell_type": "code",
      "source": [
        "# Tokenize the data\n",
        "tokenizer = AutoTokenizer.from_pretrained(base_model, trust_remote_code=True)\n",
        "tokenizer.padding_side = \"right\"\n",
        "tokenizer.pad_token = tokenizer.eos_token\n",
        "tokenizer.add_eos_token = True\n",
        "tokenizer.bos_token, tokenizer.eos_token"
      ],
      "metadata": {
        "id": "amYCzuDaNsnX"
      },
      "execution_count": null,
      "outputs": []
    },
    {
      "cell_type": "code",
      "source": [
        "# LoRA config -- Skeleton\n",
        "model = prepare_model_for_kbit_training(model)\n",
        "# Reference: https://huggingface.co/docs/peft/en/quicktour\n",
        "peft_config = LoraConfig(\n",
        "    r=8,\n",
        "    lora_alpha=32,\n",
        "    lora_dropout=0.1\n",
        ")\n",
        "model = get_peft_model(model, peft_config)"
      ],
      "metadata": {
        "id": "3pa2FmXxN2Lx"
      },
      "execution_count": null,
      "outputs": []
    },
    {
      "cell_type": "code",
      "source": [
        "# Hyperparameters -- Skeleton\n",
        "training_arguments = TrainingArguments(\n",
        "    output_dir=,\n",
        "    num_train_epochs=,\n",
        "    learning_rate=,\n",
        "    ...\n",
        ")"
      ],
      "metadata": {
        "id": "kKvh-tLGN5Mk"
      },
      "execution_count": null,
      "outputs": []
    },
    {
      "cell_type": "code",
      "source": [
        "# Trainer\n",
        "trainer = SFTTrainer(\n",
        "    model=model,\n",
        "    train_dataset=dataset[\"train\"],\n",
        "    eval_dataset=dataset[\"test\"],\n",
        "    peft_config=peft_config,\n",
        "    max_seq_length=None,\n",
        "    dataset_text_field=\"text\",\n",
        "    tokenizer=tokenizer,\n",
        "    args=training_arguments,\n",
        "    packing=False\n",
        ")\n",
        "trainer.train()"
      ],
      "metadata": {
        "id": "ithA1DkFN87Q"
      },
      "execution_count": null,
      "outputs": []
    },
    {
      "cell_type": "code",
      "source": [
        "# Save the model\n",
        "trainer.model.save_pretrained(\"ESE577_chatbot\")\n",
        "model.config.use_cache = True\n",
        "model.eval()"
      ],
      "metadata": {
        "id": "xG-5bieHN_F3"
      },
      "execution_count": null,
      "outputs": []
    },
    {
      "cell_type": "code",
      "source": [
        "# Run the model locally\n",
        "logging.set_verbosity(logging.CRITICAL)\n",
        "pipe = pipeline(task=\"text-generation\", model=model, tokenizer=tokenizer, max_length=200, truncation=True)\n",
        "def build_prompt(question):\n",
        "  prompt = f\"<s>[INST]@ESE577. {question}. [/INST]\"\n",
        "  return prompt\n",
        "\n",
        "while True:\n",
        "  question = input(\"Enter your ESE577-related question (hit Enter to exit): \").strip()\n",
        "  if not question:\n",
        "    break\n",
        "  prompt = build_prompt(question)\n",
        "  answer = pipe(prompt)\n",
        "  print(answer[0][\"generated_text\"])\n",
        "  print()\n"
      ],
      "metadata": {
        "id": "50iH8Nd4OApV"
      },
      "execution_count": null,
      "outputs": []
    }
  ]
}